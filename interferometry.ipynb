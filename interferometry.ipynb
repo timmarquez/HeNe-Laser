{
 "cells": [
  {
   "cell_type": "code",
   "execution_count": 6,
   "metadata": {},
   "outputs": [],
   "source": [
    "import numpy as np\n",
    "import matplotlib.pyplot as plt\n",
    "import matplotlib as mpl\n",
    "\n",
    "#defining equation\n",
    "def wave(d_m):\n",
    "    N = 20\n",
    "    w = 2*d_m / N\n",
    "    return w\n",
    "#In micrometers (um)"
   ]
  },
  {
   "cell_type": "code",
   "execution_count": 7,
   "metadata": {},
   "outputs": [
    {
     "name": "stdout",
     "output_type": "stream",
     "text": [
      "0.75 0.6799999999999999 0.67 0.7\n"
     ]
    }
   ],
   "source": [
    "#Tim's trials\n",
    "k = wave(7.5)\n",
    "u = wave(6.8)\n",
    "z = wave(6.7)\n",
    "y = wave(7)\n",
    "print(k,u,z,y)"
   ]
  },
  {
   "cell_type": "code",
   "execution_count": 8,
   "metadata": {},
   "outputs": [
    {
     "name": "stdout",
     "output_type": "stream",
     "text": [
      "0.696\n"
     ]
    }
   ],
   "source": [
    "arr = [0.75,0.6799999999999999,0.6799999999999999,0.67,0.7]\n",
    "avg = sum(arr)/len(arr)\n",
    "\n",
    "print(avg) #wavelength without compensator"
   ]
  },
  {
   "cell_type": "code",
   "execution_count": 9,
   "metadata": {},
   "outputs": [
    {
     "name": "stdout",
     "output_type": "stream",
     "text": [
      "0.675\n"
     ]
    }
   ],
   "source": [
    "#With compensator:\n",
    "m = wave(6.6)\n",
    "n = wave(6.7)\n",
    "j = wave(7)\n",
    "arr1 = [m, n,n, j]\n",
    "avg1 = sum(arr1)/len(arr1)\n",
    "\n",
    "print(avg1) #wavelength with compensator"
   ]
  },
  {
   "cell_type": "code",
   "execution_count": 10,
   "metadata": {},
   "outputs": [
    {
     "name": "stdout",
     "output_type": "stream",
     "text": [
      "0.72\n"
     ]
    }
   ],
   "source": [
    "#Brennan's trials\n",
    "l = wave(7)\n",
    "p = wave(7.5)\n",
    "arr2 = [l,l,l,p,p]\n",
    "avg2 = sum(arr2)/len(arr2)\n",
    "\n",
    "print(avg2) #wavelength"
   ]
  },
  {
   "cell_type": "code",
   "execution_count": 31,
   "metadata": {},
   "outputs": [],
   "source": [
    "fringes7 = [10,\n",
    "9.7,\n",
    "9.9,\n",
    "9.7,\n",
    "9.8,\n",
    "10.1]\n",
    "fringes8 = [11.25,\n",
    "11.6,\n",
    "11,\n",
    "11.4,\n",
    "11.1,\n",
    "11.1]\n",
    "fringes9 = [12.5,\n",
    "12.5,\n",
    "12.65,\n",
    "12.6,\n",
    "12.6,\n",
    "12.4]\n",
    "fringes10 = [13.5,\n",
    "13.75,\n",
    "13,\n",
    "13.5,\n",
    "13.5,\n",
    "13.45]\n",
    "fringes11 = [14.1,\n",
    "14.3,\n",
    "14.5,\n",
    "15,\n",
    "14.4,\n",
    "14.45]\n",
    "\n",
    "delP = [50.94,47.45,44.14,41.84,39.28]\n"
   ]
  },
  {
   "cell_type": "code",
   "execution_count": 38,
   "metadata": {},
   "outputs": [
    {
     "name": "stdout",
     "output_type": "stream",
     "text": [
      "[7.382666666666668e-05, 8.437333333333333e-05, 9.492e-05, 0.00010546666666666666, 0.00011601333333333335]\n"
     ]
    }
   ],
   "source": [
    "#index of refraction slope ni-nf\n",
    "def slope(N):\n",
    "    Lambda = 6.328e-5\n",
    "    d = 3.0\n",
    "    m = (N*Lambda)/(2*d)\n",
    "    return(m)\n",
    "SA = [slope(7),slope(8),slope(9),slope(10),slope(11)]\n",
    "print(SA)"
   ]
  },
  {
   "cell_type": "code",
   "execution_count": 63,
   "metadata": {},
   "outputs": [
    {
     "data": {
      "text/plain": [
       "Text(0, 0.5, 'Index of refraction slope $n_i - n_f$')"
      ]
     },
     "execution_count": 63,
     "metadata": {},
     "output_type": "execute_result"
    },
    {
     "data": {
      "image/png": "[encoded data removed]",
      "text/plain": [
       "<Figure size 432x288 with 1 Axes>"
      ]
     },
     "metadata": {
      "needs_background": "light"
     },
     "output_type": "display_data"
    }
   ],
   "source": [
    "plt.scatter(delP,SA)\n",
    "plt.errorbar(delP,SA)\n",
    "plt.ylim([0.000070,0.00012])\n",
    "plt.xlabel(r'Absolute Pressure $cmHg$')\n",
    "plt.ylabel(r'Index of refraction slope $n_i - n_f$')\n",
    "#absolute pressure = P atm - P gauge -> the higher the pressure reading on gauge, absolute pressure goes down\n",
    "#meaning that low fringe count = higher absolute pressure"
   ]
  },
  {
   "cell_type": "code",
   "execution_count": null,
   "metadata": {},
   "outputs": [],
   "source": []
  }
 ],
 "metadata": {
  "kernelspec": {
   "display_name": "Python 3",
   "language": "python",
   "name": "python3"
  },
  "language_info": {
   "codemirror_mode": {
    "name": "ipython",
    "version": 3
   },
   "file_extension": ".py",
   "mimetype": "text/x-python",
   "name": "python",
   "nbconvert_exporter": "python",
   "pygments_lexer": "ipython3",
   "version": "3.7.3"
  }
 },
 "nbformat": 4,
 "nbformat_minor": 2
}
